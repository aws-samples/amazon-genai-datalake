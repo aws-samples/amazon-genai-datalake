{
 "cells": [
  {
   "cell_type": "markdown",
   "id": "984ba5aa-e4e6-45a3-9fd2-95d21f34e4c4",
   "metadata": {},
   "source": [
    "# Dataset acquisition\n",
    "\n",
    "This notebook downloads and uncompresses the dataset."
   ]
  },
  {
   "cell_type": "markdown",
   "id": "06c8b536-7620-47a9-a485-18fbaf514d59",
   "metadata": {},
   "source": [
    "## S3 bucket\n",
    "\n",
    "First, change the name of the S3 bucket below."
   ]
  },
  {
   "cell_type": "code",
   "execution_count": null,
   "id": "cfd70ca7-315e-4ac5-a4e5-9624a72ef147",
   "metadata": {},
   "outputs": [],
   "source": [
    "bucket = 'bucket'"
   ]
  },
  {
   "cell_type": "markdown",
   "id": "66c03b47",
   "metadata": {},
   "source": [
    "The dataset is over 30 GB. If the download times out, you can resume it by adding the `-c` flag."
   ]
  },
  {
   "cell_type": "code",
   "execution_count": null,
   "id": "025757b7-cca9-4b73-a0ba-a4e05482bb92",
   "metadata": {},
   "outputs": [],
   "source": [
    "!wget https://datarepo.eng.ucsd.edu/mcauley_group/data/amazon_v2/categoryFiles/All_Amazon_Review.json.gz"
   ]
  },
  {
   "cell_type": "code",
   "execution_count": null,
   "id": "7f829aed-d20a-4377-8e49-9477b3a08e01",
   "metadata": {},
   "outputs": [],
   "source": [
    "!gunzip All_Amazon_Review.json.gz"
   ]
  },
  {
   "cell_type": "code",
   "execution_count": null,
   "id": "27f2d1a9-81eb-4982-95ec-f61cb2994c75",
   "metadata": {},
   "outputs": [],
   "source": [
    "import boto3\n",
    "import os\n",
    "import threading\n",
    "import sys\n",
    "\n",
    "s3 = boto3.resource('s3')\n",
    "\n",
    "from boto3.s3.transfer import TransferConfig\n",
    "config = TransferConfig(multipart_threshold=1024 * 25, \n",
    "                        max_concurrency=10,\n",
    "                        multipart_chunksize=1024 * 25,\n",
    "                        use_threads=True)\n",
    "\n",
    "file_path = 'All_Amazon_Review.json'\n",
    "key = 'data/raw/All_Amazon_Review.json'\n",
    "\n",
    "class ProgressPercentage(object):\n",
    "        def __init__(self, filename):\n",
    "            self._filename = filename\n",
    "            self._size = float(os.path.getsize(filename))\n",
    "            self._seen_so_far = 0\n",
    "            self._lock = threading.Lock()\n",
    "\n",
    "        def __call__(self, bytes_amount):\n",
    "            # To simplify we'll assume this is hooked up\n",
    "            # to a single filename.\n",
    "            with self._lock:\n",
    "                self._seen_so_far += bytes_amount\n",
    "                percentage = (self._seen_so_far / self._size) * 100\n",
    "                sys.stdout.write(\n",
    "                    \"\\r%s  %s / %s  (%.2f%%)\" % (\n",
    "                        self._filename, self._seen_so_far, self._size,\n",
    "                        percentage))\n",
    "                sys.stdout.flush()\n",
    "                \n",
    "s3.Object(bucket, key).upload_file(file_path,\n",
    "                        ExtraArgs=None,\n",
    "                        Config=config,\n",
    "                        Callback=ProgressPercentage(file_path)\n",
    "                        )"
   ]
  },
  {
   "cell_type": "code",
   "execution_count": null,
   "id": "36d4faea-1692-4b52-a797-a92b07e1fbdd",
   "metadata": {},
   "outputs": [],
   "source": []
  }
 ],
 "metadata": {
  "kernelspec": {
   "display_name": "Python 3 (ipykernel)",
   "language": "python",
   "name": "python3"
  },
  "language_info": {
   "codemirror_mode": {
    "name": "ipython",
    "version": 3
   },
   "file_extension": ".py",
   "mimetype": "text/x-python",
   "name": "python",
   "nbconvert_exporter": "python",
   "pygments_lexer": "ipython3",
   "version": "3.10.13"
  }
 },
 "nbformat": 4,
 "nbformat_minor": 5
}
