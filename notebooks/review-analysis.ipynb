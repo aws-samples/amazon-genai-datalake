{
 "cells": [
  {
   "cell_type": "markdown",
   "id": "d25eafd9-a7bf-44ab-a065-fb9ce3f3ae43",
   "metadata": {
    "tags": []
   },
   "source": [
    "# Dataset preparation\n",
    "\n",
    "In this notebook, we will convert the raw JSON data to Parquet, and perform some other minor cleanup work."
   ]
  },
  {
   "cell_type": "markdown",
   "id": "68cce075-a3fe-46f6-9c9b-e1030125d3e4",
   "metadata": {
    "execution": {
     "iopub.status.idle": "2022-01-01T00:00:00.0Z",
     "shell.execute_reply": "2022-01-01T00:00:00.0Z",
     "shell.execute_reply.started": "2022-01-01T00:00:00.0Z"
    },
    "tags": []
   },
   "source": [
    "## S3 bucket\n",
    "\n",
    "First, change the name of the S3 bucket below."
   ]
  },
  {
   "cell_type": "code",
   "execution_count": 1,
   "id": "e87fd743-7f09-4501-935e-ae484db4d9d9",
   "metadata": {
    "execution": {
     "iopub.execute_input": "2023-12-28T18:26:02.792644Z",
     "iopub.status.busy": "2023-12-28T18:26:02.792280Z",
     "iopub.status.idle": "2023-12-28T18:26:18.255622Z",
     "shell.execute_reply": "2023-12-28T18:26:18.255149Z",
     "shell.execute_reply.started": "2023-12-28T18:26:02.792616Z"
    }
   },
   "outputs": [
    {
     "data": {
      "application/vnd.jupyter.widget-view+json": {
       "model_id": "ec2dd20680654bdd9d6d99cea4e70183",
       "version_major": 2,
       "version_minor": 0
      },
      "text/plain": [
       "VBox()"
      ]
     },
     "metadata": {},
     "output_type": "display_data"
    },
    {
     "name": "stdout",
     "output_type": "stream",
     "text": [
      "Starting Spark application\n"
     ]
    },
    {
     "data": {
      "text/html": [
       "<table>\n",
       "    <tr><th>ID</th><th>Kind</th><th>State</th><th>Spark UI</th><th>Driver log</th><th>User</th><th>Current session?</th></tr><tr><td>0</td><td>pyspark</td><td>idle</td><td><a target=\"_blank\" href=\"https://spark-live-ui.emr-serverless.amazonaws.com\" class=\"emr-proxy-link\" emr-runtime=\"emr-serverless\" emr-resource=\"00ffrobuio3dch0e\" application-id=\"00ffrm09uvrlun0d\">Link</a></td><td></td><td>None</td><td>✔</td></tr></table>"
      ],
      "text/plain": [
       "<IPython.core.display.HTML object>"
      ]
     },
     "metadata": {},
     "output_type": "display_data"
    },
    {
     "data": {
      "application/vnd.jupyter.widget-view+json": {
       "model_id": "",
       "version_major": 2,
       "version_minor": 0
      },
      "text/plain": [
       "FloatProgress(value=0.0, bar_style='info', description='Progress:', layout=Layout(height='25px', width='50%'),…"
      ]
     },
     "metadata": {},
     "output_type": "display_data"
    },
    {
     "name": "stdout",
     "output_type": "stream",
     "text": [
      "SparkSession available as 'spark'.\n"
     ]
    },
    {
     "data": {
      "application/vnd.jupyter.widget-view+json": {
       "model_id": "",
       "version_major": 2,
       "version_minor": 0
      },
      "text/plain": [
       "FloatProgress(value=0.0, bar_style='info', description='Progress:', layout=Layout(height='25px', width='50%'),…"
      ]
     },
     "metadata": {},
     "output_type": "display_data"
    }
   ],
   "source": [
    "bucket = 'bucket'"
   ]
  },
  {
   "cell_type": "code",
   "execution_count": 2,
   "id": "25c21ebc-01f9-4bb0-9b63-898c729aea07",
   "metadata": {
    "execution": {
     "iopub.execute_input": "2023-12-28T18:26:33.229065Z",
     "iopub.status.busy": "2023-12-28T18:26:33.228489Z",
     "iopub.status.idle": "2023-12-28T18:26:34.821026Z",
     "shell.execute_reply": "2023-12-28T18:26:34.820560Z",
     "shell.execute_reply.started": "2023-12-28T18:26:33.229042Z"
    },
    "tags": []
   },
   "outputs": [
    {
     "data": {
      "application/vnd.jupyter.widget-view+json": {
       "model_id": "c83f94b4376049b5a68275c35eafca25",
       "version_major": 2,
       "version_minor": 0
      },
      "text/plain": [
       "VBox()"
      ]
     },
     "metadata": {},
     "output_type": "display_data"
    },
    {
     "data": {
      "application/vnd.jupyter.widget-view+json": {
       "model_id": "",
       "version_major": 2,
       "version_minor": 0
      },
      "text/plain": [
       "FloatProgress(value=0.0, bar_style='info', description='Progress:', layout=Layout(height='25px', width='50%'),…"
      ]
     },
     "metadata": {},
     "output_type": "display_data"
    }
   ],
   "source": [
    "from pyspark.context import SparkContext\n",
    "sc = SparkContext.getOrCreate()"
   ]
  },
  {
   "cell_type": "markdown",
   "id": "87a36bea-c31f-437f-8c61-1b34efbf27b3",
   "metadata": {},
   "source": [
    "## Data format\n",
    "\n",
    "Example entry:\n",
    "\n",
    "    {\n",
    "    \"image\": [\"https://images-na.ssl-images-amazon.com/images/I/71eG75FTJJL._SY88.jpg\"], \n",
    "    \"overall\": 5.0, \n",
    "    \"vote\": \"2\", \n",
    "    \"verified\": True, \n",
    "    \"reviewTime\": \"01 1, 2018\", \n",
    "    \"reviewerID\": \"AUI6WTTT0QZYS\", \n",
    "    \"asin\": \"5120053084\", \n",
    "    \"style\": {\n",
    "        \"Size:\": \"Large\", \n",
    "        \"Color:\": \"Charcoal\"\n",
    "        }, \n",
    "    \"reviewerName\": \"Abbey\", \n",
    "    \"reviewText\": \"I now have 4 of the 5 available colors of this shirt... \", \n",
    "    \"summary\": \"Comfy, flattering, discreet--highly recommended!\", \n",
    "    \"unixReviewTime\": 1514764800\n",
    "    }"
   ]
  },
  {
   "cell_type": "code",
   "execution_count": 3,
   "id": "2367594a-3cbf-489b-9881-b4702229d02c",
   "metadata": {
    "execution": {
     "iopub.execute_input": "2023-12-28T18:27:39.245790Z",
     "iopub.status.busy": "2023-12-28T18:27:39.245431Z",
     "iopub.status.idle": "2023-12-28T18:27:39.379332Z",
     "shell.execute_reply": "2023-12-28T18:27:39.378861Z",
     "shell.execute_reply.started": "2023-12-28T18:27:39.245768Z"
    },
    "tags": []
   },
   "outputs": [
    {
     "data": {
      "application/vnd.jupyter.widget-view+json": {
       "model_id": "922ef32ba65c4d828988038e231d7320",
       "version_major": 2,
       "version_minor": 0
      },
      "text/plain": [
       "VBox()"
      ]
     },
     "metadata": {},
     "output_type": "display_data"
    },
    {
     "data": {
      "application/vnd.jupyter.widget-view+json": {
       "model_id": "",
       "version_major": 2,
       "version_minor": 0
      },
      "text/plain": [
       "FloatProgress(value=0.0, bar_style='info', description='Progress:', layout=Layout(height='25px', width='50%'),…"
      ]
     },
     "metadata": {},
     "output_type": "display_data"
    }
   ],
   "source": [
    "from pyspark.sql.types import StructType, StructField, StringType, IntegerType, ArrayType, MapType, DoubleType, BooleanType, LongType\n",
    "\n",
    "schema = StructType([\n",
    "    StructField(\"image\", ArrayType(StringType()), True), \n",
    "    StructField(\"overall\", DoubleType(), True),\n",
    "    StructField(\"vote\", StringType(), True),\n",
    "    StructField(\"verified\", BooleanType(), True),\n",
    "    StructField(\"reviewTime\", StringType(), True),\n",
    "    StructField(\"reviewerID\", StringType(), True), \n",
    "    StructField(\"asin\", StringType(), True),\n",
    "    StructField(\"style\", MapType(StringType(), StringType()), True), \n",
    "    StructField(\"reviewerName\", StringType(), True),\n",
    "    StructField(\"reviewText\", StringType(), True),\n",
    "    StructField(\"summary\", StringType(), True),\n",
    "    StructField(\"unixReviewTime\", LongType(), True)  \n",
    "])"
   ]
  },
  {
   "cell_type": "code",
   "execution_count": 4,
   "id": "751e92c5-4100-4739-8fd0-de55bbadb24f",
   "metadata": {
    "execution": {
     "iopub.execute_input": "2023-12-28T18:30:04.990696Z",
     "iopub.status.busy": "2023-12-28T18:30:04.990327Z",
     "iopub.status.idle": "2023-12-28T18:30:08.393746Z",
     "shell.execute_reply": "2023-12-28T18:30:08.393270Z",
     "shell.execute_reply.started": "2023-12-28T18:30:04.990674Z"
    },
    "tags": []
   },
   "outputs": [
    {
     "data": {
      "application/vnd.jupyter.widget-view+json": {
       "model_id": "9d82ba65fc334e84ad6df4b756c57bbb",
       "version_major": 2,
       "version_minor": 0
      },
      "text/plain": [
       "VBox()"
      ]
     },
     "metadata": {},
     "output_type": "display_data"
    },
    {
     "data": {
      "application/vnd.jupyter.widget-view+json": {
       "model_id": "",
       "version_major": 2,
       "version_minor": 0
      },
      "text/plain": [
       "FloatProgress(value=0.0, bar_style='info', description='Progress:', layout=Layout(height='25px', width='50%'),…"
      ]
     },
     "metadata": {},
     "output_type": "display_data"
    }
   ],
   "source": [
    "df = spark.read.schema(schema).json(f\"s3://{bucket}/data/raw/All_Amazon_Review.json\")"
   ]
  },
  {
   "cell_type": "code",
   "execution_count": 5,
   "id": "b736d9c0-501b-4495-9f31-aed4b433ab9a",
   "metadata": {
    "execution": {
     "iopub.execute_input": "2023-12-28T18:30:12.748212Z",
     "iopub.status.busy": "2023-12-28T18:30:12.747854Z",
     "iopub.status.idle": "2023-12-28T18:30:13.072343Z",
     "shell.execute_reply": "2023-12-28T18:30:13.071864Z",
     "shell.execute_reply.started": "2023-12-28T18:30:12.748191Z"
    },
    "tags": []
   },
   "outputs": [
    {
     "data": {
      "application/vnd.jupyter.widget-view+json": {
       "model_id": "6d1239fac5c94e808df112714f7c5a12",
       "version_major": 2,
       "version_minor": 0
      },
      "text/plain": [
       "VBox()"
      ]
     },
     "metadata": {},
     "output_type": "display_data"
    },
    {
     "data": {
      "application/vnd.jupyter.widget-view+json": {
       "model_id": "",
       "version_major": 2,
       "version_minor": 0
      },
      "text/plain": [
       "FloatProgress(value=0.0, bar_style='info', description='Progress:', layout=Layout(height='25px', width='50%'),…"
      ]
     },
     "metadata": {},
     "output_type": "display_data"
    },
    {
     "name": "stdout",
     "output_type": "stream",
     "text": [
      "root\n",
      " |-- image: array (nullable = true)\n",
      " |    |-- element: string (containsNull = true)\n",
      " |-- overall: double (nullable = true)\n",
      " |-- vote: string (nullable = true)\n",
      " |-- verified: boolean (nullable = true)\n",
      " |-- reviewTime: string (nullable = true)\n",
      " |-- reviewerID: string (nullable = true)\n",
      " |-- asin: string (nullable = true)\n",
      " |-- style: map (nullable = true)\n",
      " |    |-- key: string\n",
      " |    |-- value: string (valueContainsNull = true)\n",
      " |-- reviewerName: string (nullable = true)\n",
      " |-- reviewText: string (nullable = true)\n",
      " |-- summary: string (nullable = true)\n",
      " |-- unixReviewTime: long (nullable = true)"
     ]
    }
   ],
   "source": [
    "df.printSchema()"
   ]
  },
  {
   "cell_type": "code",
   "execution_count": 6,
   "id": "0a28c389-47f7-4f7a-b0c6-6be7cd62639a",
   "metadata": {
    "execution": {
     "iopub.execute_input": "2023-12-28T18:30:15.707211Z",
     "iopub.status.busy": "2023-12-28T18:30:15.706874Z",
     "iopub.status.idle": "2023-12-28T18:30:21.342861Z",
     "shell.execute_reply": "2023-12-28T18:30:21.342376Z",
     "shell.execute_reply.started": "2023-12-28T18:30:15.707189Z"
    },
    "tags": []
   },
   "outputs": [
    {
     "data": {
      "application/vnd.jupyter.widget-view+json": {
       "model_id": "668e5ec7492a461ab5b5786181f4be30",
       "version_major": 2,
       "version_minor": 0
      },
      "text/plain": [
       "VBox()"
      ]
     },
     "metadata": {},
     "output_type": "display_data"
    },
    {
     "data": {
      "application/vnd.jupyter.widget-view+json": {
       "model_id": "",
       "version_major": 2,
       "version_minor": 0
      },
      "text/plain": [
       "FloatProgress(value=0.0, bar_style='info', description='Progress:', layout=Layout(height='25px', width='50%'),…"
      ]
     },
     "metadata": {},
     "output_type": "display_data"
    },
    {
     "name": "stdout",
     "output_type": "stream",
     "text": [
      "+-----+-------+----+--------+-----------+--------------+----------+-----+----------------+--------------------+--------------------+--------------+\n",
      "|image|overall|vote|verified| reviewTime|    reviewerID|      asin|style|    reviewerName|          reviewText|             summary|unixReviewTime|\n",
      "+-----+-------+----+--------+-----------+--------------+----------+-----+----------------+--------------------+--------------------+--------------+\n",
      "| null|    1.0|null|   false|12 11, 2015|A27BTSGLXK2C5K|B017O9P72A| null|Jacob M. Wessler|Alexa is not able...|VERY Buggy, doesn...|    1449792000|\n",
      "| null|    4.0|   5|   false| 12 8, 2015|A27ZJ1NCBFP1HZ|B017O9P72A| null|            Greg|Alexa works great...|      So Far So Good|    1449532800|\n",
      "| null|    1.0|  11|   false| 12 7, 2015| ACCQIOZMFN4UK|B017O9P72A| null|        Da-Gr8-1|Weak!!\\n\\nAlexa d...|         Time waster|    1449446400|\n",
      "+-----+-------+----+--------+-----------+--------------+----------+-----+----------------+--------------------+--------------------+--------------+\n",
      "only showing top 3 rows"
     ]
    }
   ],
   "source": [
    "df.show(3)"
   ]
  },
  {
   "cell_type": "code",
   "execution_count": 7,
   "id": "46f78214-f921-42ec-bc61-73c838c04c33",
   "metadata": {
    "execution": {
     "iopub.execute_input": "2023-12-28T18:31:52.061194Z",
     "iopub.status.busy": "2023-12-28T18:31:52.060659Z",
     "iopub.status.idle": "2023-12-28T18:31:52.401213Z",
     "shell.execute_reply": "2023-12-28T18:31:52.400734Z",
     "shell.execute_reply.started": "2023-12-28T18:31:52.061171Z"
    },
    "tags": []
   },
   "outputs": [
    {
     "data": {
      "application/vnd.jupyter.widget-view+json": {
       "model_id": "88b03e16f72a4e50bbd5a0b92fcb7742",
       "version_major": 2,
       "version_minor": 0
      },
      "text/plain": [
       "VBox()"
      ]
     },
     "metadata": {},
     "output_type": "display_data"
    },
    {
     "data": {
      "application/vnd.jupyter.widget-view+json": {
       "model_id": "",
       "version_major": 2,
       "version_minor": 0
      },
      "text/plain": [
       "FloatProgress(value=0.0, bar_style='info', description='Progress:', layout=Layout(height='25px', width='50%'),…"
      ]
     },
     "metadata": {},
     "output_type": "display_data"
    }
   ],
   "source": [
    "df = df.drop(\"image\").drop(\"reviewTime\").drop(\"reviewerID\").drop(\"reviewerName\")"
   ]
  },
  {
   "cell_type": "code",
   "execution_count": 8,
   "id": "679f35f5-e4d7-4ec2-9da4-a6bc4436f5f7",
   "metadata": {
    "execution": {
     "iopub.execute_input": "2023-12-28T18:31:53.108194Z",
     "iopub.status.busy": "2023-12-28T18:31:53.107552Z",
     "iopub.status.idle": "2023-12-28T18:31:56.514566Z",
     "shell.execute_reply": "2023-12-28T18:31:56.514062Z",
     "shell.execute_reply.started": "2023-12-28T18:31:53.108170Z"
    },
    "tags": []
   },
   "outputs": [
    {
     "data": {
      "application/vnd.jupyter.widget-view+json": {
       "model_id": "b17e85e5fac84d44a3222da3f98f7850",
       "version_major": 2,
       "version_minor": 0
      },
      "text/plain": [
       "VBox()"
      ]
     },
     "metadata": {},
     "output_type": "display_data"
    },
    {
     "data": {
      "application/vnd.jupyter.widget-view+json": {
       "model_id": "",
       "version_major": 2,
       "version_minor": 0
      },
      "text/plain": [
       "FloatProgress(value=0.0, bar_style='info', description='Progress:', layout=Layout(height='25px', width='50%'),…"
      ]
     },
     "metadata": {},
     "output_type": "display_data"
    },
    {
     "name": "stdout",
     "output_type": "stream",
     "text": [
      "+-------+----+--------+----------+-----+--------------------+--------------------+--------------+\n",
      "|overall|vote|verified|      asin|style|          reviewText|             summary|unixReviewTime|\n",
      "+-------+----+--------+----------+-----+--------------------+--------------------+--------------+\n",
      "|    1.0|null|   false|B017O9P72A| null|Alexa is not able...|VERY Buggy, doesn...|    1449792000|\n",
      "|    4.0|   5|   false|B017O9P72A| null|Alexa works great...|      So Far So Good|    1449532800|\n",
      "|    1.0|  11|   false|B017O9P72A| null|Weak!!\\n\\nAlexa d...|         Time waster|    1449446400|\n",
      "+-------+----+--------+----------+-----+--------------------+--------------------+--------------+\n",
      "only showing top 3 rows"
     ]
    }
   ],
   "source": [
    "df.show(3)"
   ]
  },
  {
   "cell_type": "code",
   "execution_count": 9,
   "id": "242faf2e-6bb1-4931-9d0d-429af9532242",
   "metadata": {
    "execution": {
     "iopub.execute_input": "2023-12-28T18:31:56.515880Z",
     "iopub.status.busy": "2023-12-28T18:31:56.515539Z",
     "iopub.status.idle": "2023-12-28T18:31:56.828361Z",
     "shell.execute_reply": "2023-12-28T18:31:56.827858Z",
     "shell.execute_reply.started": "2023-12-28T18:31:56.515861Z"
    },
    "tags": []
   },
   "outputs": [
    {
     "data": {
      "application/vnd.jupyter.widget-view+json": {
       "model_id": "d9918959dec443bcad99ba3221a67396",
       "version_major": 2,
       "version_minor": 0
      },
      "text/plain": [
       "VBox()"
      ]
     },
     "metadata": {},
     "output_type": "display_data"
    },
    {
     "data": {
      "application/vnd.jupyter.widget-view+json": {
       "model_id": "",
       "version_major": 2,
       "version_minor": 0
      },
      "text/plain": [
       "FloatProgress(value=0.0, bar_style='info', description='Progress:', layout=Layout(height='25px', width='50%'),…"
      ]
     },
     "metadata": {},
     "output_type": "display_data"
    }
   ],
   "source": [
    "from pyspark.sql import functions as F\n",
    "df = df.withColumn(\"tsReviewTime\", F.from_unixtime(df.unixReviewTime).cast(\"timestamp\"))"
   ]
  },
  {
   "cell_type": "code",
   "execution_count": 10,
   "id": "48b88004-3920-4313-926a-55e3a9dac2d8",
   "metadata": {
    "execution": {
     "iopub.execute_input": "2023-12-28T18:31:56.829397Z",
     "iopub.status.busy": "2023-12-28T18:31:56.829166Z",
     "iopub.status.idle": "2023-12-28T18:31:56.925497Z",
     "shell.execute_reply": "2023-12-28T18:31:56.924980Z",
     "shell.execute_reply.started": "2023-12-28T18:31:56.829378Z"
    },
    "tags": []
   },
   "outputs": [
    {
     "data": {
      "application/vnd.jupyter.widget-view+json": {
       "model_id": "f8c5e09d37364373a30c9f5fe97fb48b",
       "version_major": 2,
       "version_minor": 0
      },
      "text/plain": [
       "VBox()"
      ]
     },
     "metadata": {},
     "output_type": "display_data"
    },
    {
     "data": {
      "application/vnd.jupyter.widget-view+json": {
       "model_id": "",
       "version_major": 2,
       "version_minor": 0
      },
      "text/plain": [
       "FloatProgress(value=0.0, bar_style='info', description='Progress:', layout=Layout(height='25px', width='50%'),…"
      ]
     },
     "metadata": {},
     "output_type": "display_data"
    }
   ],
   "source": [
    "df = df.drop(\"unixReviewTime\")"
   ]
  },
  {
   "cell_type": "code",
   "execution_count": 11,
   "id": "32875bf4-1f3c-4bb8-a564-348852f10c3b",
   "metadata": {
    "execution": {
     "iopub.execute_input": "2023-12-28T18:31:59.093755Z",
     "iopub.status.busy": "2023-12-28T18:31:59.093426Z",
     "iopub.status.idle": "2023-12-28T18:31:59.912058Z",
     "shell.execute_reply": "2023-12-28T18:31:59.911574Z",
     "shell.execute_reply.started": "2023-12-28T18:31:59.093733Z"
    },
    "tags": []
   },
   "outputs": [
    {
     "data": {
      "application/vnd.jupyter.widget-view+json": {
       "model_id": "a16583662c3345ce8a909fe89dd44afb",
       "version_major": 2,
       "version_minor": 0
      },
      "text/plain": [
       "VBox()"
      ]
     },
     "metadata": {},
     "output_type": "display_data"
    },
    {
     "data": {
      "application/vnd.jupyter.widget-view+json": {
       "model_id": "",
       "version_major": 2,
       "version_minor": 0
      },
      "text/plain": [
       "FloatProgress(value=0.0, bar_style='info', description='Progress:', layout=Layout(height='25px', width='50%'),…"
      ]
     },
     "metadata": {},
     "output_type": "display_data"
    },
    {
     "name": "stdout",
     "output_type": "stream",
     "text": [
      "+-------+----+--------+----------+-----+--------------------+--------------------+-------------------+\n",
      "|overall|vote|verified|      asin|style|          reviewText|             summary|       tsReviewTime|\n",
      "+-------+----+--------+----------+-----+--------------------+--------------------+-------------------+\n",
      "|    1.0|null|   false|B017O9P72A| null|Alexa is not able...|VERY Buggy, doesn...|2015-12-11 00:00:00|\n",
      "|    4.0|   5|   false|B017O9P72A| null|Alexa works great...|      So Far So Good|2015-12-08 00:00:00|\n",
      "|    1.0|  11|   false|B017O9P72A| null|Weak!!\\n\\nAlexa d...|         Time waster|2015-12-07 00:00:00|\n",
      "+-------+----+--------+----------+-----+--------------------+--------------------+-------------------+\n",
      "only showing top 3 rows"
     ]
    }
   ],
   "source": [
    "df.show(3)"
   ]
  },
  {
   "cell_type": "code",
   "execution_count": 12,
   "id": "9ab9a275-7f25-4291-9d88-aee05400084b",
   "metadata": {
    "execution": {
     "iopub.execute_input": "2023-12-28T18:32:01.671829Z",
     "iopub.status.busy": "2023-12-28T18:32:01.671463Z",
     "iopub.status.idle": "2023-12-28T18:32:07.052842Z",
     "shell.execute_reply": "2023-12-28T18:32:07.052336Z",
     "shell.execute_reply.started": "2023-12-28T18:32:01.671806Z"
    },
    "tags": []
   },
   "outputs": [
    {
     "data": {
      "application/vnd.jupyter.widget-view+json": {
       "model_id": "b6a9cf2243434cfba1773fc3383851c8",
       "version_major": 2,
       "version_minor": 0
      },
      "text/plain": [
       "VBox()"
      ]
     },
     "metadata": {},
     "output_type": "display_data"
    },
    {
     "data": {
      "application/vnd.jupyter.widget-view+json": {
       "model_id": "",
       "version_major": 2,
       "version_minor": 0
      },
      "text/plain": [
       "FloatProgress(value=0.0, bar_style='info', description='Progress:', layout=Layout(height='25px', width='50%'),…"
      ]
     },
     "metadata": {},
     "output_type": "display_data"
    },
    {
     "name": "stdout",
     "output_type": "stream",
     "text": [
      "+-------+----+--------+----------+--------------------+--------------------+--------------------+-------------------+\n",
      "|overall|vote|verified|      asin|               style|          reviewText|             summary|       tsReviewTime|\n",
      "+-------+----+--------+----------+--------------------+--------------------+--------------------+-------------------+\n",
      "|    5.0|null|   false|B01ENR8GD8|   {Format: ->  App}|Love the gratitud...|Get Your Gratitud...|2017-03-04 00:00:00|\n",
      "|    5.0|null|   false|B005V7U52A|  {Color: ->  Black}|This seems to be ...|Good band for the...|2012-09-10 00:00:00|\n",
      "|    5.0|   7|   false|B005V7U52A|  {Color: ->  Black}|There are similar...|A watch with mult...|2012-09-08 00:00:00|\n",
      "|    4.0|   2|   false|B005V7U52A|  {Color: ->  White}|I bought this ban...|  Use it for running|2012-07-06 00:00:00|\n",
      "|    1.0|   5|    true|B005V7U52A|  {Color: ->  Black}|I wish I could su...|Awful...broken in...|2012-01-22 00:00:00|\n",
      "|    5.0|   2|    true|B005V7U52A|  {Color: ->  Black}|I bought this wat...|  Awesome watch-band|2012-01-11 00:00:00|\n",
      "|    5.0|   4|    true|B005V7U52A|  {Color: ->  Black}|I bought a Griffi...|     Best iPod watch|2011-11-05 00:00:00|\n",
      "|    5.0|null|   false|B005V7U52A|{Color: ->  Graph...|Looks great and w...|Looks great and w...|2014-08-26 00:00:00|\n",
      "|    2.0|null|    true|B005V7U52A|{Color: ->  Graph...|doesn't fit to my...|looking funny and...|2014-08-18 00:00:00|\n",
      "|    5.0|null|    true|B005V7U52A|   {Color: ->  Blue}|Love this watch b...|    Great watch band|2014-07-14 00:00:00|\n",
      "|    1.0|null|    true|B005V7U52A|  {Color: ->  White}|Does not fit nano...|    Shuffle or nano?|2014-04-10 00:00:00|\n",
      "|    4.0|null|    true|B005V7U52A|{Color: ->  Graph...|I've been using t...|Great band, very ...|2013-08-20 00:00:00|\n",
      "|    1.0|null|    true|B005V7U52A|  {Color: ->  Black}|The band that i b...|Didn't look as it...|2013-08-03 00:00:00|\n",
      "|    5.0|null|    true|B005V7U52A|  {Color: ->  Black}|Very convenient a...|   Excellent product|2013-04-21 00:00:00|\n",
      "|    5.0|null|    true|B005V7U52A|{Color: ->  Graph...|Great for keeping...|        Nice Product|2013-03-21 00:00:00|\n",
      "|    3.0|null|    true|B005V7U52A|  {Color: ->  Black}|It looks better i...|          It's okay!|2013-02-14 00:00:00|\n",
      "|    1.0|null|    true|B005V7U52A|{Color: ->  Graph...|This is not compa...|   Do NOT buy for 7G|2012-11-18 00:00:00|\n",
      "|    5.0|null|    true|B00AAL0QLW| {Color: ->  Silver}|very useful produ...|        good product|2013-12-09 00:00:00|\n",
      "|    5.0|   2|    true|B00AAL0QLW| {Color: ->  Silver}|Ive been wanting ...|iPad + Satechi Bl...|2013-11-10 00:00:00|\n",
      "|    5.0|   2|    true|B00AAL0QLW| {Color: ->  Silver}|Item arrived prom...|Satechi Smart Poi...|2013-05-15 00:00:00|\n",
      "+-------+----+--------+----------+--------------------+--------------------+--------------------+-------------------+\n",
      "only showing top 20 rows"
     ]
    }
   ],
   "source": [
    "df.filter(df[\"style\"].isNotNull()).show()"
   ]
  },
  {
   "cell_type": "code",
   "execution_count": 13,
   "id": "4115e2b8-0e6c-40b5-8664-ac31c64b2b78",
   "metadata": {
    "execution": {
     "iopub.execute_input": "2023-12-28T18:33:46.145733Z",
     "iopub.status.busy": "2023-12-28T18:33:46.145356Z",
     "iopub.status.idle": "2023-12-28T18:34:57.879794Z",
     "shell.execute_reply": "2023-12-28T18:34:57.879307Z",
     "shell.execute_reply.started": "2023-12-28T18:33:46.145712Z"
    },
    "tags": []
   },
   "outputs": [
    {
     "data": {
      "application/vnd.jupyter.widget-view+json": {
       "model_id": "7760234016b342bfb37e184ceea1b2f3",
       "version_major": 2,
       "version_minor": 0
      },
      "text/plain": [
       "VBox()"
      ]
     },
     "metadata": {},
     "output_type": "display_data"
    },
    {
     "data": {
      "application/vnd.jupyter.widget-view+json": {
       "model_id": "",
       "version_major": 2,
       "version_minor": 0
      },
      "text/plain": [
       "FloatProgress(value=0.0, bar_style='info', description='Progress:', layout=Layout(height='25px', width='50%'),…"
      ]
     },
     "metadata": {},
     "output_type": "display_data"
    }
   ],
   "source": [
    "df.write.parquet(f\"s3://{bucket}/data/parquet\")"
   ]
  },
  {
   "cell_type": "code",
   "execution_count": 14,
   "id": "fa8b0a87-1a0b-46e4-8d95-91afcf590a48",
   "metadata": {
    "execution": {
     "iopub.execute_input": "2023-12-28T18:36:50.424118Z",
     "iopub.status.busy": "2023-12-28T18:36:50.423744Z",
     "iopub.status.idle": "2023-12-28T18:36:53.817385Z",
     "shell.execute_reply": "2023-12-28T18:36:53.816892Z",
     "shell.execute_reply.started": "2023-12-28T18:36:50.424096Z"
    }
   },
   "outputs": [
    {
     "data": {
      "application/vnd.jupyter.widget-view+json": {
       "model_id": "66cfc2647f7749688bdb4201e017173b",
       "version_major": 2,
       "version_minor": 0
      },
      "text/plain": [
       "VBox()"
      ]
     },
     "metadata": {},
     "output_type": "display_data"
    },
    {
     "data": {
      "application/vnd.jupyter.widget-view+json": {
       "model_id": "",
       "version_major": 2,
       "version_minor": 0
      },
      "text/plain": [
       "FloatProgress(value=0.0, bar_style='info', description='Progress:', layout=Layout(height='25px', width='50%'),…"
      ]
     },
     "metadata": {},
     "output_type": "display_data"
    },
    {
     "name": "stdout",
     "output_type": "stream",
     "text": [
      "DataFrame[]"
     ]
    }
   ],
   "source": [
    "parquet_path = f\"s3://{bucket}/data/parquet\"\n",
    "spark.sql(\"CREATE EXTERNAL TABLE reviews(overall DOUBLE, vote STRING, verified BOOLEAN, asin STRING, style MAP<STRING, STRING>, reviewText STRING, summary STRING, tsReviewTime TIMESTAMP) STORED AS PARQUET LOCATION '{0}'\".format(parquet_path))"
   ]
  },
  {
   "cell_type": "code",
   "execution_count": null,
   "id": "cac5118e-ca7a-4c18-a529-5a3e8f3918c0",
   "metadata": {},
   "outputs": [],
   "source": []
  }
 ],
 "metadata": {
  "kernelspec": {
   "display_name": "PySpark",
   "language": "python",
   "name": "spark_magic_pyspark"
  },
  "language_info": {
   "codemirror_mode": {
    "name": "python",
    "version": 3
   },
   "file_extension": ".py",
   "mimetype": "text/x-python",
   "name": "pyspark",
   "pygments_lexer": "python3"
  }
 },
 "nbformat": 4,
 "nbformat_minor": 5
}
